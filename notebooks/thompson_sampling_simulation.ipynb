{
 "cells": [
  {
   "cell_type": "code",
   "execution_count": 1,
   "metadata": {},
   "outputs": [],
   "source": [
    "import os\n",
    "import pandas as pd\n",
    "import numpy as np\n",
    "from datetime import datetime, timedelta\n",
    "from mab import thompson_sampling as ts\n",
    "from mab.utils import (\n",
    "    read_partitions, save_dataframe_to_parquet, remove_directory_contents\n",
    ")\n",
    "\n",
    "# Define random seed for numpy so that every numpy operation is replicable\n",
    "np.random.seed(42)"
   ]
  },
  {
   "attachments": {},
   "cell_type": "markdown",
   "metadata": {},
   "source": [
    "# Definitions"
   ]
  },
  {
   "attachments": {},
   "cell_type": "markdown",
   "metadata": {},
   "source": [
    "## Arms (ads, for example)"
   ]
  },
  {
   "attachments": {},
   "cell_type": "markdown",
   "metadata": {},
   "source": [
    "- 10 arms (ads, for example) with a certain probability of being clicked\n",
    "- We know this probability in the simulation, but not on reality\n",
    "- After the simulation, we want to check which ad was chosen more often – it should tend to the one with more probability of being clicked"
   ]
  },
  {
   "cell_type": "code",
   "execution_count": 2,
   "metadata": {},
   "outputs": [],
   "source": [
    "# 5 different ads – with prob of being seen\n",
    "PROBS = [0.7112, 0.7113, 0.7113, 0.7115, 0.7116, 0.7117, 0.7117, 0.7118, 0.7119, 0.7151]\n",
    "# probs = [0.1, 0.3, 0.4, 0.6, 0.7, 0.7117, 0.7117, 0.7118, 0.7119, 0.7221]\n",
    "ARMS = [i for i in range(len(PROBS))]"
   ]
  },
  {
   "attachments": {},
   "cell_type": "markdown",
   "metadata": {},
   "source": [
    "## Clients"
   ]
  },
  {
   "attachments": {},
   "cell_type": "markdown",
   "metadata": {},
   "source": [
    "- Let us assume that we have `N_CLIENTS` - in reality, this value won't be static as the clients of NOS come and go. However, for now, we are going to keep it a little more simple"
   ]
  },
  {
   "cell_type": "code",
   "execution_count": 3,
   "metadata": {},
   "outputs": [],
   "source": [
    "N_CLIENTS = 100_000\n",
    "CLIENTS = [i for i in range(N_CLIENTS)]"
   ]
  },
  {
   "attachments": {},
   "cell_type": "markdown",
   "metadata": {},
   "source": [
    "# Simulation"
   ]
  },
  {
   "attachments": {},
   "cell_type": "markdown",
   "metadata": {},
   "source": [
    "**Cold Start**\n",
    "\n",
    "The first time we chose the arms for each client, we do not have historic data of clicks to know which ones should be presented. As such, each arm is selected with uniform probability.\n",
    "- In day 0 we send a bacth with the clients and ads they will be shown (uniformly at random) for day 1\n",
    "- In day 1 we send a bacth with the clients and ads they will be shown (uniformly at random) for day 2\n",
    "- In day 2 we send a bacth with the clients and ads they will be shown for day 3, but now taking into account the history of clicks they've made"
   ]
  },
  {
   "cell_type": "markdown",
   "metadata": {},
   "source": [
    "\n",
    "- Let's do a simulation for `N_DAYS` starting on `START_DATE`"
   ]
  },
  {
   "cell_type": "code",
   "execution_count": 4,
   "metadata": {},
   "outputs": [],
   "source": [
    "CURRENT_DIR = os.path.abspath(\"\")\n",
    "N_DAYS = 30\n",
    "START_DATE = datetime(2023, 3, 1).date()\n",
    "dates_range = [START_DATE + timedelta(days=i) for i in range(N_DAYS)]"
   ]
  },
  {
   "cell_type": "code",
   "execution_count": 5,
   "metadata": {},
   "outputs": [],
   "source": [
    "remove_directory_contents(CURRENT_DIR + \"/../data/history\")\n",
    "remove_directory_contents(CURRENT_DIR + \"/../data/markings\")\n",
    "\n",
    "for day in dates_range:\n",
    "    next_day = day + timedelta(days=1)\n",
    "    # For the first 2 days, we do not have data about clicks, so we need to\n",
    "    # suggest uniformly at random\n",
    "    if day - START_DATE < timedelta(days=2):\n",
    "        arms_for_each_client = ts.chose_arms_randomly(CLIENTS, ARMS)\n",
    "\n",
    "        save_dataframe_to_parquet(\n",
    "            ts.create_markings_dataset(CLIENTS, arms_for_each_client, next_day),\n",
    "            CURRENT_DIR + f\"/../data/markings/df_markings_{next_day}.parquet\"\n",
    "        )\n",
    "    \n",
    "    else:\n",
    "        ###############################################################\n",
    "        #                        SIMULATE CLICKS                      #\n",
    "        ###############################################################\n",
    "        df_markings = read_partitions(CURRENT_DIR + \"/../data/markings\")\n",
    "        previous_day = day - timedelta(days=1)\n",
    "\n",
    "        # Generate the clients that have seen the ads\n",
    "        df = ts.generate_clients_ad_show(\n",
    "            CLIENTS, np.random.randint(10_000, 20_000),\n",
    "            df_markings, previous_day\n",
    "        )\n",
    "\n",
    "        # Save the historic data - we have access to this data only one day\n",
    "        # after it really occurred\n",
    "        save_dataframe_to_parquet(\n",
    "            # Simulate which clients have clicked the ads\n",
    "            ts.create_clicks_dataset(df, PROBS),\n",
    "            CURRENT_DIR + f\"/../data/history/df_history_{previous_day}.parquet\"\n",
    "        )\n",
    "\n",
    "        ###############################################################\n",
    "        #                      SIMULATE MARKINGS                      #\n",
    "        ###############################################################\n",
    "        df_history = read_partitions(CURRENT_DIR + \"/../data/history\")\n",
    "\n",
    "        recommended_arms = ts.get_recommended_arms(\n",
    "            df_history, ARMS, N_CLIENTS\n",
    "        )\n",
    "\n",
    "        save_dataframe_to_parquet(\n",
    "            ts.create_markings_dataset(CLIENTS, recommended_arms, next_day),\n",
    "            CURRENT_DIR + f\"/../data/markings/df_markings_{next_day}.parquet\"\n",
    "        )"
   ]
  },
  {
   "attachments": {},
   "cell_type": "markdown",
   "metadata": {},
   "source": [
    "# Plot"
   ]
  },
  {
   "cell_type": "code",
   "execution_count": 6,
   "metadata": {},
   "outputs": [
    {
     "data": {
      "text/html": [
       "<div>\n",
       "<style scoped>\n",
       "    .dataframe tbody tr th:only-of-type {\n",
       "        vertical-align: middle;\n",
       "    }\n",
       "\n",
       "    .dataframe tbody tr th {\n",
       "        vertical-align: top;\n",
       "    }\n",
       "\n",
       "    .dataframe thead th {\n",
       "        text-align: right;\n",
       "    }\n",
       "</style>\n",
       "<table border=\"1\" class=\"dataframe\">\n",
       "  <thead>\n",
       "    <tr style=\"text-align: right;\">\n",
       "      <th></th>\n",
       "      <th>client_id</th>\n",
       "      <th>arm_id</th>\n",
       "      <th>date</th>\n",
       "    </tr>\n",
       "  </thead>\n",
       "  <tbody>\n",
       "    <tr>\n",
       "      <th>0</th>\n",
       "      <td>0</td>\n",
       "      <td>4</td>\n",
       "      <td>2023-03-31</td>\n",
       "    </tr>\n",
       "    <tr>\n",
       "      <th>1</th>\n",
       "      <td>1</td>\n",
       "      <td>8</td>\n",
       "      <td>2023-03-31</td>\n",
       "    </tr>\n",
       "    <tr>\n",
       "      <th>2</th>\n",
       "      <td>2</td>\n",
       "      <td>6</td>\n",
       "      <td>2023-03-31</td>\n",
       "    </tr>\n",
       "    <tr>\n",
       "      <th>3</th>\n",
       "      <td>3</td>\n",
       "      <td>3</td>\n",
       "      <td>2023-03-31</td>\n",
       "    </tr>\n",
       "    <tr>\n",
       "      <th>4</th>\n",
       "      <td>4</td>\n",
       "      <td>9</td>\n",
       "      <td>2023-03-31</td>\n",
       "    </tr>\n",
       "    <tr>\n",
       "      <th>...</th>\n",
       "      <td>...</td>\n",
       "      <td>...</td>\n",
       "      <td>...</td>\n",
       "    </tr>\n",
       "    <tr>\n",
       "      <th>99995</th>\n",
       "      <td>99995</td>\n",
       "      <td>1</td>\n",
       "      <td>2023-03-31</td>\n",
       "    </tr>\n",
       "    <tr>\n",
       "      <th>99996</th>\n",
       "      <td>99996</td>\n",
       "      <td>4</td>\n",
       "      <td>2023-03-31</td>\n",
       "    </tr>\n",
       "    <tr>\n",
       "      <th>99997</th>\n",
       "      <td>99997</td>\n",
       "      <td>4</td>\n",
       "      <td>2023-03-31</td>\n",
       "    </tr>\n",
       "    <tr>\n",
       "      <th>99998</th>\n",
       "      <td>99998</td>\n",
       "      <td>4</td>\n",
       "      <td>2023-03-31</td>\n",
       "    </tr>\n",
       "    <tr>\n",
       "      <th>99999</th>\n",
       "      <td>99999</td>\n",
       "      <td>4</td>\n",
       "      <td>2023-03-31</td>\n",
       "    </tr>\n",
       "  </tbody>\n",
       "</table>\n",
       "<p>100000 rows × 3 columns</p>\n",
       "</div>"
      ],
      "text/plain": [
       "       client_id  arm_id       date\n",
       "0              0       4 2023-03-31\n",
       "1              1       8 2023-03-31\n",
       "2              2       6 2023-03-31\n",
       "3              3       3 2023-03-31\n",
       "4              4       9 2023-03-31\n",
       "...          ...     ...        ...\n",
       "99995      99995       1 2023-03-31\n",
       "99996      99996       4 2023-03-31\n",
       "99997      99997       4 2023-03-31\n",
       "99998      99998       4 2023-03-31\n",
       "99999      99999       4 2023-03-31\n",
       "\n",
       "[100000 rows x 3 columns]"
      ]
     },
     "execution_count": 6,
     "metadata": {},
     "output_type": "execute_result"
    }
   ],
   "source": [
    "df_test = pd.read_parquet(\n",
    "    CURRENT_DIR + \"/../data/markings/df_markings_2023-03-31.parquet\"\n",
    ")\n",
    "\n",
    "df_test"
   ]
  },
  {
   "cell_type": "code",
   "execution_count": 7,
   "metadata": {},
   "outputs": [
    {
     "data": {
      "image/png": "[encoded data removed]",
      "text/plain": [
       "<Figure size 640x480 with 1 Axes>"
      ]
     },
     "metadata": {},
     "output_type": "display_data"
    }
   ],
   "source": [
    "# O anúncio 9 já é o mais visto :)\n",
    "df_test.groupby(\"arm_id\").client_id.count().sort_values().plot.bar();"
   ]
  }
 ],
 "metadata": {
  "kernelspec": {
   "display_name": "spark_env",
   "language": "python",
   "name": "python3"
  },
  "language_info": {
   "codemirror_mode": {
    "name": "ipython",
    "version": 3
   },
   "file_extension": ".py",
   "mimetype": "text/x-python",
   "name": "python",
   "nbconvert_exporter": "python",
   "pygments_lexer": "ipython3",
   "version": "3.9.0"
  },
  "orig_nbformat": 4
 },
 "nbformat": 4,
 "nbformat_minor": 2
}
